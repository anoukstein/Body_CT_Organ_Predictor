{
 "cells": [
  {
   "cell_type": "code",
   "execution_count": 1,
   "metadata": {
    "colab": {
     "base_uri": "https://localhost:8080/"
    },
    "id": "nN6TomHtxIKT",
    "outputId": "7986ee23-ad47-41e6-f039-f8644cf33ab3"
   },
   "outputs": [],
   "source": [
    "!pip3 install pydicom -q"
   ]
  },
  {
   "cell_type": "code",
   "execution_count": 2,
   "metadata": {
    "colab": {
     "base_uri": "https://localhost:8080/"
    },
    "id": "SPpt7Csryh2J",
    "outputId": "fb09c555-93ac-489e-a86e-e301ca022ff6"
   },
   "outputs": [],
   "source": [
    "#Run once per session\n",
    "#!pip install fastai -q --upgrade"
   ]
  },
  {
   "cell_type": "code",
   "execution_count": 1,
   "metadata": {
    "id": "acOrh1izwiyU"
   },
   "outputs": [
    {
     "name": "stdout",
     "output_type": "stream",
     "text": [
      "Enabling: voila\n",
      "- Writing config: /Users/anouk/opt/anaconda3/etc/jupyter\n",
      "    - Validating...\n",
      "      voila 0.2.6 \u001b[32mOK\u001b[0m\n"
     ]
    }
   ],
   "source": [
    "#!pip install voila\n",
    "!jupyter serverextension enable --sys-prefix voila"
   ]
  },
  {
   "cell_type": "markdown",
   "metadata": {},
   "source": [
    "## Upload a single CT slice and get a prediction of its contents"
   ]
  },
  {
   "cell_type": "markdown",
   "metadata": {},
   "source": [
    "- Jpg or dicom images\n",
    "- Possible outputs:\n",
    "\n",
    "'Neck', 'Thoracic inlet', 'Trachea', 'Arch', 'RPA & LPA', 'Heart',\n",
    "       'Lungs', 'Lower abdomen', 'Pelvic bone', 'Symphysis pubis',\n",
    "       'SI Joint', 'Spleen', 'Liver', 'Kidney - R', 'Kidney - L',\n",
    "       'Pancreas' "
   ]
  },
  {
   "cell_type": "code",
   "execution_count": 11,
   "metadata": {
    "id": "cCsVPBQPBJh3"
   },
   "outputs": [],
   "source": [
    "from fastai.vision.all import *\n",
    "from fastai.vision.widgets import *\n",
    "\n",
    "import numpy as np\n",
    "from scipy.ndimage.interpolation import zoom\n",
    "import pydicom as py\n",
    "from io import BytesIO\n",
    "import os, os.path as osp\n",
    "import cv2"
   ]
  },
  {
   "cell_type": "code",
   "execution_count": 12,
   "metadata": {
    "id": "vIe79fPauZLf"
   },
   "outputs": [],
   "source": [
    "def get_x(r): return data_folder + r['filename'] + '.jpg'\n",
    "def get_y(r): return r['labels'].split(',')\n",
    "learn = load_learner('Downloads/export.pkl')"
   ]
  },
  {
   "cell_type": "code",
   "execution_count": 6,
   "metadata": {
    "id": "s-6qlKhEuE0G"
   },
   "outputs": [],
   "source": [
    "def convert(dicom_file):\n",
    "    def window(img, WL=50, WW=350):\n",
    "        upper, lower = WL+WW//2, WL-WW//2\n",
    "        X = np.clip(img.copy(), lower, upper)\n",
    "        X = X - np.min(X)\n",
    "        X = X / np.max(X)\n",
    "        X = (X*255.0).astype('uint8')\n",
    "        \n",
    "        return X\n",
    "        \n",
    "    if \"PixelData\" not in dicom_file:\n",
    "        image = np.zeros(imsize)\n",
    "    else:\n",
    "        image = dicom_file.pixel_array.copy()\n",
    "\n",
    "    scale_slope = 1.0\n",
    "    scale_intercept = 0.0\n",
    "    if \"RescaleSlope\" in dicom_file:\n",
    "        scale_slope = float(dicom_file.RescaleSlope)\n",
    "    if \"RescaleIntercept\" in dicom_file:\n",
    "        scale_intercept = float(dicom_file.RescaleIntercept)\n",
    "    image = image + scale_intercept\n",
    "    image = image * scale_slope\n",
    "    \n",
    "    try:\n",
    "        # Windows\n",
    "        image_lung = np.expand_dims(window(image, WL=-600, WW=1500), axis=2)\n",
    "        image_abdomen = np.expand_dims(window(image, WL=40, WW=350), axis=2)\n",
    "        image_bone = np.expand_dims(window(image, WL=480, WW=2500), axis=2)\n",
    "        \n",
    "        image = np.concatenate([image_lung, image_abdomen, image_bone],axis=2)\n",
    "        \n",
    "        rat = 64. / np.max(image.shape[1:])\n",
    "        image_scaled = zoom(image, [rat,rat,1.], prefilter=False, order=1)\n",
    "        return image_scaled\n",
    "    except Exception as e:\n",
    "        print(e)\n",
    "        return image"
   ]
  },
  {
   "cell_type": "code",
   "execution_count": 7,
   "metadata": {
    "id": "ppmmEWPqjAXW"
   },
   "outputs": [],
   "source": [
    "btn_upload = widgets.FileUpload()\n",
    "out_pl = widgets.Output()\n",
    "lbl_pred = widgets.Label()"
   ]
  },
  {
   "cell_type": "code",
   "execution_count": 8,
   "metadata": {
    "id": "2OO6zg7kRb90"
   },
   "outputs": [],
   "source": [
    "def on_data_change(change):\n",
    "  lbl_pred.value = ''\n",
    "  is_jpg = True\n",
    "  image_data = btn_upload.data[-1]\n",
    "\n",
    "  try:\n",
    "    img = PILImage.create(image_data)\n",
    "    out_pl.clear_output()\n",
    "    with out_pl: display(img.to_thumb(128,128))\n",
    "    #resize\n",
    "    img = img.resize((64,64))\n",
    "    img = TensorImage(image2tensor(img))\n",
    "    img = PILImage.create(img)\n",
    "    pred,pred_idx,probs = learn.predict(img)\n",
    "  except:\n",
    "    is_jpg = False\n",
    "  \n",
    "  if is_jpg == False:\n",
    "    ds = py.dcmread(BytesIO(image_data))\n",
    "    img = convert(ds)\n",
    "    tmpdir = tempfile.TemporaryDirectory()\n",
    "    tmp_jpg_for_prediction = osp.join(tmpdir.name, 'tmp.jpg')\n",
    "    cv2.imwrite(tmp_jpg_for_prediction, img)\n",
    "    out_pl.clear_output()\n",
    "    with out_pl: display(Image.fromarray(img))\n",
    "    pred,pred_idx,probs = learn.predict(tmp_jpg_for_prediction)\n",
    "  \n",
    "  lbl_pred.value = f'Prediction: {pred}'\n",
    "\n",
    "btn_upload.observe(on_data_change, names=['data'])"
   ]
  },
  {
   "cell_type": "code",
   "execution_count": 10,
   "metadata": {
    "colab": {
     "base_uri": "https://localhost:8080/",
     "height": 194,
     "referenced_widgets": [
      "090f10cdbaba4714a8654c3c84243cb3",
      "06c6aca0982a4c0aba75fe12c1f7a622",
      "239abe6c53924a2a9c2a2f56713ca725",
      "ab5b7be0bb81444dac18bf6c655f1896",
      "2e78457b721b4dcfaca64addd76516e5",
      "c4a9bcaad39848578f602743d7be6f6e",
      "163235f60e114f378fced044efd0a724",
      "36b18b7f60264fa2ac86c3a046f0b4b1",
      "2bded82b31484c0589ed846d4f40f7dd",
      "5aa4882a486941c8954539cd2244f4b6",
      "515c2c6a608e4b93ab2442d01907e838",
      "94df3a62e1bc43ddb9983ffe54f0ae67",
      "565fee7e8f7c4fb2b226d6baeb332cc4"
     ]
    },
    "id": "coOgPLgBh_6o",
    "outputId": "a9efac79-c3f6-41ef-a8e8-6bc2217e1deb"
   },
   "outputs": [],
   "source": [
    "display(VBox([widgets.Label('Select a CT Image'), btn_upload, out_pl, lbl_pred]))"
   ]
  }
 ],
 "metadata": {
  "colab": {
   "collapsed_sections": [],
   "name": "Ranges Inference Upload.ipynb",
   "provenance": []
  },
  "kernelspec": {
   "display_name": "Python 3",
   "language": "python",
   "name": "python3"
  },
  "language_info": {
   "codemirror_mode": {
    "name": "ipython",
    "version": 3
   },
   "file_extension": ".py",
   "mimetype": "text/x-python",
   "name": "python",
   "nbconvert_exporter": "python",
   "pygments_lexer": "ipython3",
   "version": "3.8.3"
  },
  "widgets": {
   "application/vnd.jupyter.widget-state+json": {
    "06c6aca0982a4c0aba75fe12c1f7a622": {
     "model_module": "@jupyter-widgets/base",
     "model_name": "LayoutModel",
     "state": {
      "_model_module": "@jupyter-widgets/base",
      "_model_module_version": "1.2.0",
      "_model_name": "LayoutModel",
      "_view_count": null,
      "_view_module": "@jupyter-widgets/base",
      "_view_module_version": "1.2.0",
      "_view_name": "LayoutView",
      "align_content": null,
      "align_items": null,
      "align_self": null,
      "border": null,
      "bottom": null,
      "display": null,
      "flex": null,
      "flex_flow": null,
      "grid_area": null,
      "grid_auto_columns": null,
      "grid_auto_flow": null,
      "grid_auto_rows": null,
      "grid_column": null,
      "grid_gap": null,
      "grid_row": null,
      "grid_template_areas": null,
      "grid_template_columns": null,
      "grid_template_rows": null,
      "height": null,
      "justify_content": null,
      "justify_items": null,
      "left": null,
      "margin": null,
      "max_height": null,
      "max_width": null,
      "min_height": null,
      "min_width": null,
      "object_fit": null,
      "object_position": null,
      "order": null,
      "overflow": null,
      "overflow_x": null,
      "overflow_y": null,
      "padding": null,
      "right": null,
      "top": null,
      "visibility": null,
      "width": null
     }
    },
    "090f10cdbaba4714a8654c3c84243cb3": {
     "model_module": "@jupyter-widgets/controls",
     "model_name": "VBoxModel",
     "state": {
      "_dom_classes": [],
      "_model_module": "@jupyter-widgets/controls",
      "_model_module_version": "1.5.0",
      "_model_name": "VBoxModel",
      "_view_count": null,
      "_view_module": "@jupyter-widgets/controls",
      "_view_module_version": "1.5.0",
      "_view_name": "VBoxView",
      "box_style": "",
      "children": [
       "IPY_MODEL_239abe6c53924a2a9c2a2f56713ca725",
       "IPY_MODEL_ab5b7be0bb81444dac18bf6c655f1896",
       "IPY_MODEL_2e78457b721b4dcfaca64addd76516e5",
       "IPY_MODEL_c4a9bcaad39848578f602743d7be6f6e"
      ],
      "layout": "IPY_MODEL_06c6aca0982a4c0aba75fe12c1f7a622"
     }
    },
    "163235f60e114f378fced044efd0a724": {
     "model_module": "@jupyter-widgets/controls",
     "model_name": "DescriptionStyleModel",
     "state": {
      "_model_module": "@jupyter-widgets/controls",
      "_model_module_version": "1.5.0",
      "_model_name": "DescriptionStyleModel",
      "_view_count": null,
      "_view_module": "@jupyter-widgets/base",
      "_view_module_version": "1.2.0",
      "_view_name": "StyleView",
      "description_width": ""
     }
    },
    "239abe6c53924a2a9c2a2f56713ca725": {
     "model_module": "@jupyter-widgets/controls",
     "model_name": "LabelModel",
     "state": {
      "_dom_classes": [],
      "_model_module": "@jupyter-widgets/controls",
      "_model_module_version": "1.5.0",
      "_model_name": "LabelModel",
      "_view_count": null,
      "_view_module": "@jupyter-widgets/controls",
      "_view_module_version": "1.5.0",
      "_view_name": "LabelView",
      "description": "",
      "description_tooltip": null,
      "layout": "IPY_MODEL_36b18b7f60264fa2ac86c3a046f0b4b1",
      "placeholder": "​",
      "style": "IPY_MODEL_163235f60e114f378fced044efd0a724",
      "value": "Select a CT Image"
     }
    },
    "2bded82b31484c0589ed846d4f40f7dd": {
     "model_module": "@jupyter-widgets/controls",
     "model_name": "ButtonStyleModel",
     "state": {
      "_model_module": "@jupyter-widgets/controls",
      "_model_module_version": "1.5.0",
      "_model_name": "ButtonStyleModel",
      "_view_count": null,
      "_view_module": "@jupyter-widgets/base",
      "_view_module_version": "1.2.0",
      "_view_name": "StyleView",
      "button_color": null,
      "font_weight": ""
     }
    },
    "2e78457b721b4dcfaca64addd76516e5": {
     "model_module": "@jupyter-widgets/output",
     "model_name": "OutputModel",
     "state": {
      "_dom_classes": [],
      "_model_module": "@jupyter-widgets/output",
      "_model_module_version": "1.0.0",
      "_model_name": "OutputModel",
      "_view_count": null,
      "_view_module": "@jupyter-widgets/output",
      "_view_module_version": "1.0.0",
      "_view_name": "OutputView",
      "layout": "IPY_MODEL_565fee7e8f7c4fb2b226d6baeb332cc4",
      "msg_id": "",
      "outputs": [
       {
        "image/png": "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\n",
        "metadata": {
         "tags": []
        },
        "output_type": "display_data",
        "text/plain": "<PIL.Image.Image image mode=RGB size=64x64 at 0x7F4524B18E48>"
       }
      ]
     }
    },
    "36b18b7f60264fa2ac86c3a046f0b4b1": {
     "model_module": "@jupyter-widgets/base",
     "model_name": "LayoutModel",
     "state": {
      "_model_module": "@jupyter-widgets/base",
      "_model_module_version": "1.2.0",
      "_model_name": "LayoutModel",
      "_view_count": null,
      "_view_module": "@jupyter-widgets/base",
      "_view_module_version": "1.2.0",
      "_view_name": "LayoutView",
      "align_content": null,
      "align_items": null,
      "align_self": null,
      "border": null,
      "bottom": null,
      "display": null,
      "flex": null,
      "flex_flow": null,
      "grid_area": null,
      "grid_auto_columns": null,
      "grid_auto_flow": null,
      "grid_auto_rows": null,
      "grid_column": null,
      "grid_gap": null,
      "grid_row": null,
      "grid_template_areas": null,
      "grid_template_columns": null,
      "grid_template_rows": null,
      "height": null,
      "justify_content": null,
      "justify_items": null,
      "left": null,
      "margin": null,
      "max_height": null,
      "max_width": null,
      "min_height": null,
      "min_width": null,
      "object_fit": null,
      "object_position": null,
      "order": null,
      "overflow": null,
      "overflow_x": null,
      "overflow_y": null,
      "padding": null,
      "right": null,
      "top": null,
      "visibility": null,
      "width": null
     }
    },
    "515c2c6a608e4b93ab2442d01907e838": {
     "model_module": "@jupyter-widgets/controls",
     "model_name": "DescriptionStyleModel",
     "state": {
      "_model_module": "@jupyter-widgets/controls",
      "_model_module_version": "1.5.0",
      "_model_name": "DescriptionStyleModel",
      "_view_count": null,
      "_view_module": "@jupyter-widgets/base",
      "_view_module_version": "1.2.0",
      "_view_name": "StyleView",
      "description_width": ""
     }
    },
    "565fee7e8f7c4fb2b226d6baeb332cc4": {
     "model_module": "@jupyter-widgets/base",
     "model_name": "LayoutModel",
     "state": {
      "_model_module": "@jupyter-widgets/base",
      "_model_module_version": "1.2.0",
      "_model_name": "LayoutModel",
      "_view_count": null,
      "_view_module": "@jupyter-widgets/base",
      "_view_module_version": "1.2.0",
      "_view_name": "LayoutView",
      "align_content": null,
      "align_items": null,
      "align_self": null,
      "border": null,
      "bottom": null,
      "display": null,
      "flex": null,
      "flex_flow": null,
      "grid_area": null,
      "grid_auto_columns": null,
      "grid_auto_flow": null,
      "grid_auto_rows": null,
      "grid_column": null,
      "grid_gap": null,
      "grid_row": null,
      "grid_template_areas": null,
      "grid_template_columns": null,
      "grid_template_rows": null,
      "height": null,
      "justify_content": null,
      "justify_items": null,
      "left": null,
      "margin": null,
      "max_height": null,
      "max_width": null,
      "min_height": null,
      "min_width": null,
      "object_fit": null,
      "object_position": null,
      "order": null,
      "overflow": null,
      "overflow_x": null,
      "overflow_y": null,
      "padding": null,
      "right": null,
      "top": null,
      "visibility": null,
      "width": null
     }
    },
    "5aa4882a486941c8954539cd2244f4b6": {
     "model_module": "@jupyter-widgets/base",
     "model_name": "LayoutModel",
     "state": {
      "_model_module": "@jupyter-widgets/base",
      "_model_module_version": "1.2.0",
      "_model_name": "LayoutModel",
      "_view_count": null,
      "_view_module": "@jupyter-widgets/base",
      "_view_module_version": "1.2.0",
      "_view_name": "LayoutView",
      "align_content": null,
      "align_items": null,
      "align_self": null,
      "border": null,
      "bottom": null,
      "display": null,
      "flex": null,
      "flex_flow": null,
      "grid_area": null,
      "grid_auto_columns": null,
      "grid_auto_flow": null,
      "grid_auto_rows": null,
      "grid_column": null,
      "grid_gap": null,
      "grid_row": null,
      "grid_template_areas": null,
      "grid_template_columns": null,
      "grid_template_rows": null,
      "height": null,
      "justify_content": null,
      "justify_items": null,
      "left": null,
      "margin": null,
      "max_height": null,
      "max_width": null,
      "min_height": null,
      "min_width": null,
      "object_fit": null,
      "object_position": null,
      "order": null,
      "overflow": null,
      "overflow_x": null,
      "overflow_y": null,
      "padding": null,
      "right": null,
      "top": null,
      "visibility": null,
      "width": null
     }
    },
    "94df3a62e1bc43ddb9983ffe54f0ae67": {
     "model_module": "@jupyter-widgets/base",
     "model_name": "LayoutModel",
     "state": {
      "_model_module": "@jupyter-widgets/base",
      "_model_module_version": "1.2.0",
      "_model_name": "LayoutModel",
      "_view_count": null,
      "_view_module": "@jupyter-widgets/base",
      "_view_module_version": "1.2.0",
      "_view_name": "LayoutView",
      "align_content": null,
      "align_items": null,
      "align_self": null,
      "border": null,
      "bottom": null,
      "display": null,
      "flex": null,
      "flex_flow": null,
      "grid_area": null,
      "grid_auto_columns": null,
      "grid_auto_flow": null,
      "grid_auto_rows": null,
      "grid_column": null,
      "grid_gap": null,
      "grid_row": null,
      "grid_template_areas": null,
      "grid_template_columns": null,
      "grid_template_rows": null,
      "height": null,
      "justify_content": null,
      "justify_items": null,
      "left": null,
      "margin": null,
      "max_height": null,
      "max_width": null,
      "min_height": null,
      "min_width": null,
      "object_fit": null,
      "object_position": null,
      "order": null,
      "overflow": null,
      "overflow_x": null,
      "overflow_y": null,
      "padding": null,
      "right": null,
      "top": null,
      "visibility": null,
      "width": null
     }
    },
    "ab5b7be0bb81444dac18bf6c655f1896": {
     "model_module": "@jupyter-widgets/controls",
     "model_name": "FileUploadModel",
     "state": {
      "_counter": 2,
      "_dom_classes": [],
      "_model_module": "@jupyter-widgets/controls",
      "_model_module_version": "1.5.0",
      "_model_name": "FileUploadModel",
      "_view_count": null,
      "_view_module": "@jupyter-widgets/controls",
      "_view_module_version": "1.5.0",
      "_view_name": "FileUploadView",
      "accept": "",
      "button_style": "",
      "data": [
       null
      ],
      "description": "Upload",
      "description_tooltip": null,
      "disabled": false,
      "error": "",
      "icon": "upload",
      "layout": "IPY_MODEL_5aa4882a486941c8954539cd2244f4b6",
      "metadata": [
       {
        "lastModified": 1533173542000,
        "name": "000001.dcm",
        "size": 526990,
        "type": "application/dicom"
       }
      ],
      "multiple": false,
      "style": "IPY_MODEL_2bded82b31484c0589ed846d4f40f7dd"
     }
    },
    "c4a9bcaad39848578f602743d7be6f6e": {
     "model_module": "@jupyter-widgets/controls",
     "model_name": "LabelModel",
     "state": {
      "_dom_classes": [],
      "_model_module": "@jupyter-widgets/controls",
      "_model_module_version": "1.5.0",
      "_model_name": "LabelModel",
      "_view_count": null,
      "_view_module": "@jupyter-widgets/controls",
      "_view_module_version": "1.5.0",
      "_view_name": "LabelView",
      "description": "",
      "description_tooltip": null,
      "layout": "IPY_MODEL_94df3a62e1bc43ddb9983ffe54f0ae67",
      "placeholder": "​",
      "style": "IPY_MODEL_515c2c6a608e4b93ab2442d01907e838",
      "value": "Prediction: ['Heart', 'Lungs']"
     }
    }
   }
  }
 },
 "nbformat": 4,
 "nbformat_minor": 1
}
