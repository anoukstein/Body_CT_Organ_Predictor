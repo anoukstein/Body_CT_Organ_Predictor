{
 "cells": [
  {
   "cell_type": "code",
   "execution_count": null,
   "metadata": {},
   "outputs": [],
   "source": [
    "!pip3 install pydicom -q"
   ]
  },
  {
   "cell_type": "code",
   "execution_count": null,
   "metadata": {},
   "outputs": [],
   "source": [
    "from fastai.vision.all import *\n",
    "from fastai.vision.widgets import *\n",
    "\n",
    "import numpy as np\n",
    "from scipy.ndimage.interpolation import zoom\n",
    "import pydicom as py\n",
    "from io import BytesIO\n",
    "import os, os.path as osp\n",
    "import cv2"
   ]
  },
  {
   "cell_type": "markdown",
   "metadata": {},
   "source": [
    "# Upload a single CT slice and get a prediction of its contents"
   ]
  },
  {
   "cell_type": "markdown",
   "metadata": {},
   "source": [
    "- Jpg or dicom images\n",
    "- Possible outputs:\n",
    "\n",
    "'Neck', 'Thoracic inlet', 'Trachea', 'Arch', 'RPA & LPA', 'Heart',\n",
    "       'Lungs', 'Lower abdomen', 'Pelvic bone', 'Symphysis pubis',\n",
    "       'SI Joint', 'Spleen', 'Liver', 'Kidney - R', 'Kidney - L', 'Pancreas' \n",
    "       \n",
    "---"
   ]
  },
  {
   "cell_type": "code",
   "execution_count": null,
   "metadata": {},
   "outputs": [],
   "source": [
    "path = Path()\n",
    "\n",
    "def get_x(r): return data_folder + r['filename'] + '.jpg'\n",
    "def get_y(r): return r['labels'].split(',')\n",
    "learn_inf = load_learner(path/'Downloads/export.pkl', cpu=True)\n",
    "\n",
    "btn_upload = widgets.FileUpload()\n",
    "out_pl = widgets.Output()\n",
    "lbl_pred = widgets.Label()"
   ]
  },
  {
   "cell_type": "code",
   "execution_count": null,
   "metadata": {},
   "outputs": [],
   "source": [
    "def convert(dicom_file):\n",
    "    def window(img, WL=50, WW=350):\n",
    "        upper, lower = WL+WW//2, WL-WW//2\n",
    "        X = np.clip(img.copy(), lower, upper)\n",
    "        X = X - np.min(X)\n",
    "        X = X / np.max(X)\n",
    "        X = (X*255.0).astype('uint8')\n",
    "        \n",
    "        return X\n",
    "        \n",
    "    if \"PixelData\" not in dicom_file:\n",
    "        image = np.zeros(imsize)\n",
    "    else:\n",
    "        image = dicom_file.pixel_array.copy()\n",
    "\n",
    "    scale_slope = 1.0\n",
    "    scale_intercept = 0.0\n",
    "    if \"RescaleSlope\" in dicom_file:\n",
    "        scale_slope = float(dicom_file.RescaleSlope)\n",
    "    if \"RescaleIntercept\" in dicom_file:\n",
    "        scale_intercept = float(dicom_file.RescaleIntercept)\n",
    "    image = image + scale_intercept\n",
    "    image = image * scale_slope\n",
    "    \n",
    "    try:\n",
    "        # Windows\n",
    "        image_lung = np.expand_dims(window(image, WL=-600, WW=1500), axis=2)\n",
    "        image_abdomen = np.expand_dims(window(image, WL=40, WW=350), axis=2)\n",
    "        image_bone = np.expand_dims(window(image, WL=480, WW=2500), axis=2)\n",
    "        \n",
    "        image = np.concatenate([image_lung, image_abdomen, image_bone],axis=2)\n",
    "        \n",
    "        rat = 64. / np.max(image.shape[1:])\n",
    "        image_scaled = zoom(image, [rat,rat,1.], prefilter=False, order=1)\n",
    "        return image_scaled\n",
    "    except Exception as e:\n",
    "        print(e)\n",
    "        return image"
   ]
  },
  {
   "cell_type": "code",
   "execution_count": null,
   "metadata": {},
   "outputs": [],
   "source": [
    "def on_data_change(change):\n",
    "  lbl_pred.value = ''\n",
    "  is_jpg = True\n",
    "  image_data = btn_upload.data[-1]\n",
    "\n",
    "  try:\n",
    "    img = PILImage.create(image_data)\n",
    "    out_pl.clear_output()\n",
    "    with out_pl: display(img.to_thumb(128,128))\n",
    "    #resize\n",
    "    img = img.resize((64,64))\n",
    "    img = TensorImage(image2tensor(img))\n",
    "    img = PILImage.create(img)\n",
    "    pred,pred_idx,probs = learn_inf.predict(img)\n",
    "  except:\n",
    "    is_jpg = False\n",
    "  \n",
    "  if is_jpg == False:\n",
    "    ds = py.dcmread(BytesIO(image_data))\n",
    "    img = convert(ds)\n",
    "    tmpdir = tempfile.TemporaryDirectory()\n",
    "    tmp_jpg_for_prediction = osp.join(tmpdir.name, 'tmp.jpg')\n",
    "    cv2.imwrite(tmp_jpg_for_prediction, img)\n",
    "    out_pl.clear_output()\n",
    "    with out_pl: display(Image.fromarray(img))\n",
    "    pred,pred_idx,probs = learn_inf.predict(tmp_jpg_for_prediction)\n",
    "  \n",
    "  lbl_pred.value = f'Prediction: {pred}'"
   ]
  },
  {
   "cell_type": "code",
   "execution_count": null,
   "metadata": {},
   "outputs": [],
   "source": [
    "btn_upload.observe(on_data_change, names=['data'])"
   ]
  },
  {
   "cell_type": "code",
   "execution_count": null,
   "metadata": {
    "scrolled": true
   },
   "outputs": [],
   "source": [
    "display(VBox([widgets.Label('Select a CT image'), btn_upload, out_pl, lbl_pred]))"
   ]
  }
 ],
 "metadata": {
  "jupytext": {
   "split_at_heading": true
  },
  "kernelspec": {
   "display_name": "Python 3",
   "language": "python",
   "name": "python3"
  },
  "language_info": {
   "codemirror_mode": {
    "name": "ipython",
    "version": 3
   },
   "file_extension": ".py",
   "mimetype": "text/x-python",
   "name": "python",
   "nbconvert_exporter": "python",
   "pygments_lexer": "ipython3",
   "version": "3.8.3"
  },
  "toc": {
   "base_numbering": 1,
   "nav_menu": {},
   "number_sections": false,
   "sideBar": true,
   "skip_h1_title": true,
   "title_cell": "Table of Contents",
   "title_sidebar": "Contents",
   "toc_cell": false,
   "toc_position": {},
   "toc_section_display": true,
   "toc_window_display": false
  }
 },
 "nbformat": 4,
 "nbformat_minor": 2
}
